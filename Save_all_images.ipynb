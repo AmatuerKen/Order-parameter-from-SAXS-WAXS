{
 "cells": [
  {
   "cell_type": "code",
   "execution_count": 1,
   "id": "792b3cb6-61d8-41de-906f-4b5ffc5132e0",
   "metadata": {},
   "outputs": [],
   "source": [
    "import numpy as np\n",
    "from functions import *\n",
    "import os"
   ]
  },
  {
   "cell_type": "code",
   "execution_count": 2,
   "id": "30a27a00-2a73-48d7-a169-d2fa75c826e2",
   "metadata": {},
   "outputs": [],
   "source": [
    "#bulk process\n",
    "#directory = '../20250626/06262/'\n",
    "directory = './'\n",
    "\n",
    "edf_files = load_all_edf_files(directory)\n",
    "\n",
    "\n",
    "for filename in edf_files:\n",
    "    try:\n",
    "        image = read_esrf_edf_image(directory + filename)\n",
    "        vmin, vmax = 0, 100\n",
    "        #show_image(image, cmap='gist_heat')\n",
    "        save_image(image, directory, filename, cmap='gist_heat')\n",
    "    except Exception as e:\n",
    "        print(f\"Error processing {filename}: {e}\")"
   ]
  },
  {
   "cell_type": "code",
   "execution_count": null,
   "id": "4233b00f-e62a-4fce-af0e-716874339ad8",
   "metadata": {},
   "outputs": [],
   "source": []
  }
 ],
 "metadata": {
  "kernelspec": {
   "display_name": "Python 3 (ipykernel)",
   "language": "python",
   "name": "python3"
  },
  "language_info": {
   "codemirror_mode": {
    "name": "ipython",
    "version": 3
   },
   "file_extension": ".py",
   "mimetype": "text/x-python",
   "name": "python",
   "nbconvert_exporter": "python",
   "pygments_lexer": "ipython3",
   "version": "3.11.11"
  }
 },
 "nbformat": 4,
 "nbformat_minor": 5
}
