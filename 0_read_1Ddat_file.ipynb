{
 "cells": [
  {
   "cell_type": "code",
   "execution_count": 1,
   "id": "3ffc95e7-94f3-4973-9a55-50503e367785",
   "metadata": {},
   "outputs": [],
   "source": [
    "import numpy as np\n",
    "import matplotlib.pyplot as plt\n",
    "from functions import *\n",
    "from scipy.signal import find_peaks"
   ]
  },
  {
   "cell_type": "code",
   "execution_count": 2,
   "id": "be1831d3-07ad-4b19-9926-03fcd1b5463f",
   "metadata": {},
   "outputs": [],
   "source": [
    "# Usage\n",
    "directory = './06262/'\n",
    "filename = '06262_0_vd_00003-00004.dat'"
   ]
  },
  {
   "cell_type": "code",
   "execution_count": 10,
   "id": "52d871e5-de71-4387-9bcf-901ee953ee72",
   "metadata": {},
   "outputs": [],
   "source": [
    "def read_dat_three_columns(file_path):\n",
    "    # First, detect how many header lines to skip\n",
    "    skip_rows = 0\n",
    "    with open(file_path, 'r') as f:\n",
    "        for line in f:\n",
    "            parts = line.strip().split()\n",
    "            try:\n",
    "                # Try converting first token to float to detect numeric start\n",
    "                float(parts[0])\n",
    "                break  # found first numeric line\n",
    "            except (ValueError, IndexError):\n",
    "                skip_rows += 1\n",
    "    \n",
    "    # Load only numeric data\n",
    "    data = np.loadtxt(file_path, skiprows=skip_rows)\n",
    "    \n",
    "    if data.shape[1] != 3:\n",
    "        raise ValueError(f\"Expected 3 columns, but got {data.shape[1]} columns\")\n",
    "    \n",
    "    return data"
   ]
  },
  {
   "cell_type": "code",
   "execution_count": 25,
   "id": "2d1350ae-0f53-4936-925f-791cf24c725e",
   "metadata": {},
   "outputs": [
    {
     "data": {
      "text/plain": [
       "array([4.00491059, 0.45018703])"
      ]
     },
     "execution_count": 25,
     "metadata": {},
     "output_type": "execute_result"
    }
   ],
   "source": [
    "data = read_dat_three_columns(directory + filename)\n",
    "#print(data)\n",
    "x, y = data[:, 0], data[:, 1]\n",
    "peaks, _ = find_peaks(y)\n",
    "\n",
    "# Identify peaks near the two target q values\n",
    "target_qs = [0.14, 1.4]\n",
    "tolerance = 0.05\n",
    "peak_positions = []\n",
    "for target in target_qs:\n",
    "    mask = (x[peaks] > target - tolerance) & (x[peaks] < target + tolerance)\n",
    "    if np.any(mask):\n",
    "        idx_max = peaks[mask][np.argmax(y[peaks][mask])]\n",
    "        peak_positions.append(x[idx_max])\n",
    "    else:\n",
    "        peak_positions.append(None)\n",
    "\n",
    "2*np.pi/np.array(peak_positions)/10"
   ]
  },
  {
   "cell_type": "code",
   "execution_count": 26,
   "id": "d2a05a07-4976-47f9-9733-c42c5f320375",
   "metadata": {},
   "outputs": [
    {
     "data": {
      "image/png": "[encoded data removed]",
      "text/plain": [
       "<Figure size 400x300 with 1 Axes>"
      ]
     },
     "metadata": {},
     "output_type": "display_data"
    }
   ],
   "source": [
    "plt.figure(figsize=(4,3))\n",
    "plt.errorbar(data[:,0], data[:,1], data[:,2])\n",
    "plt.title(filename)\n",
    "for pos in peak_positions:\n",
    "    if pos is not None:\n",
    "        plt.scatter(pos, y[np.argmin(np.abs(x - pos))], \n",
    "                    color='red', s=20, zorder=5, label=f\"Peak at {pos:.3f}\")\n",
    "plt.xlabel(r'q [A$^{-1}$]')\n",
    "plt.ylabel('I(q)')\n",
    "plt.tight_layout()\n",
    "plt.show()"
   ]
  },
  {
   "cell_type": "code",
   "execution_count": 27,
   "id": "17d2fcc7-48aa-4d31-96ea-5d9d1574315b",
   "metadata": {},
   "outputs": [],
   "source": [
    "peak_positions.extend(2*np.pi/np.array(peak_positions)/10)\n"
   ]
  },
  {
   "cell_type": "code",
   "execution_count": 28,
   "id": "28e4a6e6-97fc-4bca-9eec-ca9eb9b6d59d",
   "metadata": {},
   "outputs": [
    {
     "data": {
      "text/plain": [
       "[0.15688703060074635,\n",
       " 1.3956833241754707,\n",
       " 4.004910592749593,\n",
       " 0.45018703013389594]"
      ]
     },
     "execution_count": 28,
     "metadata": {},
     "output_type": "execute_result"
    }
   ],
   "source": [
    "peak_positions"
   ]
  },
  {
   "cell_type": "code",
   "execution_count": null,
   "id": "ecbfad35-f7a4-4e86-a07a-be6befb5cd6c",
   "metadata": {},
   "outputs": [],
   "source": []
  }
 ],
 "metadata": {
  "kernelspec": {
   "display_name": "Python 3 (ipykernel)",
   "language": "python",
   "name": "python3"
  },
  "language_info": {
   "codemirror_mode": {
    "name": "ipython",
    "version": 3
   },
   "file_extension": ".py",
   "mimetype": "text/x-python",
   "name": "python",
   "nbconvert_exporter": "python",
   "pygments_lexer": "ipython3",
   "version": "3.11.11"
  }
 },
 "nbformat": 4,
 "nbformat_minor": 5
}
